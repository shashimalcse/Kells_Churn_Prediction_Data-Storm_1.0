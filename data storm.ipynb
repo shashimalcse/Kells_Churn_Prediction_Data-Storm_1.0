{
 "cells": [
  {
   "cell_type": "code",
   "execution_count": 695,
   "metadata": {},
   "outputs": [],
   "source": [
    "import matplotlib.pyplot as plt\n",
    "import pandas as pd\n",
    "import numpy as np"
   ]
  },
  {
   "cell_type": "code",
   "execution_count": 696,
   "metadata": {},
   "outputs": [],
   "source": [
    "sales_detail=pd.read_csv(\"sales_detal.csv\")\n",
    "customer_data=pd.read_csv(\"customer_data.csv\")\n",
    "sales_summary=pd.read_csv(\"sales_summary.csv\")\n",
    "submission=pd.read_csv(\"sample_submission.csv\")"
   ]
  },
  {
   "cell_type": "code",
   "execution_count": 697,
   "metadata": {},
   "outputs": [],
   "source": [
    "non_ids=customer_data[customer_data.isnull().any(axis=1)]['customer_id']"
   ]
  },
  {
   "cell_type": "code",
   "execution_count": 698,
   "metadata": {},
   "outputs": [],
   "source": [
    "customer_data=customer_data[~customer_data.customer_id.isin(non_ids)]"
   ]
  },
  {
   "cell_type": "code",
   "execution_count": 699,
   "metadata": {},
   "outputs": [],
   "source": [
    "sales_detail=sales_detail[~sales_detail.customer_id.isin(non_ids)]"
   ]
  },
  {
   "cell_type": "code",
   "execution_count": 700,
   "metadata": {},
   "outputs": [],
   "source": [
    "sales_summary=sales_summary[~sales_summary.customer_id.isin(non_ids)]"
   ]
  },
  {
   "cell_type": "code",
   "execution_count": 701,
   "metadata": {},
   "outputs": [
    {
     "name": "stdout",
     "output_type": "stream",
     "text": [
      "<class 'pandas.core.frame.DataFrame'>\n",
      "Int64Index: 7530 entries, 0 to 7999\n",
      "Data columns (total 3 columns):\n",
      "customer_id    7530 non-null int64\n",
      "gender         7530 non-null object\n",
      "birth_year     7530 non-null float64\n",
      "dtypes: float64(1), int64(1), object(1)\n",
      "memory usage: 235.3+ KB\n"
     ]
    }
   ],
   "source": [
    "customer_data.info()"
   ]
  },
  {
   "cell_type": "code",
   "execution_count": 702,
   "metadata": {},
   "outputs": [
    {
     "name": "stdout",
     "output_type": "stream",
     "text": [
      "<class 'pandas.core.frame.DataFrame'>\n",
      "Int64Index: 805878 entries, 0 to 843006\n",
      "Data columns (total 6 columns):\n",
      "customer_id                 805878 non-null int64\n",
      "year                        805878 non-null int64\n",
      "month                       805878 non-null int64\n",
      "catagory_code               805878 non-null object\n",
      "total_spent_for_category    805878 non-null float64\n",
      "end_date                    805878 non-null object\n",
      "dtypes: float64(1), int64(3), object(2)\n",
      "memory usage: 43.0+ MB\n"
     ]
    }
   ],
   "source": [
    "sales_detail.info()"
   ]
  },
  {
   "cell_type": "code",
   "execution_count": 703,
   "metadata": {},
   "outputs": [
    {
     "name": "stdout",
     "output_type": "stream",
     "text": [
      "<class 'pandas.core.frame.DataFrame'>\n",
      "Int64Index: 126183 entries, 0 to 132186\n",
      "Data columns (total 8 columns):\n",
      "customer_id              126183 non-null int64\n",
      "year                     126183 non-null int64\n",
      "month                    126183 non-null int64\n",
      "weekend_amount_spent     126183 non-null float64\n",
      "Num_of_weekend_visits    126183 non-null int64\n",
      "total_amount_spent       126183 non-null float64\n",
      "total_num_of_visits      126183 non-null int64\n",
      "end_date                 126183 non-null object\n",
      "dtypes: float64(2), int64(5), object(1)\n",
      "memory usage: 8.7+ MB\n"
     ]
    }
   ],
   "source": [
    "sales_summary.info()"
   ]
  },
  {
   "cell_type": "code",
   "execution_count": 704,
   "metadata": {},
   "outputs": [
    {
     "data": {
      "text/plain": [
       "20"
      ]
     },
     "execution_count": 704,
     "metadata": {},
     "output_type": "execute_result"
    }
   ],
   "source": [
    "len(sales_detail['catagory_code'].unique())"
   ]
  },
  {
   "cell_type": "code",
   "execution_count": null,
   "metadata": {},
   "outputs": [],
   "source": []
  },
  {
   "cell_type": "code",
   "execution_count": null,
   "metadata": {},
   "outputs": [],
   "source": []
  },
  {
   "cell_type": "code",
   "execution_count": 705,
   "metadata": {},
   "outputs": [],
   "source": [
    "df1=sales_detail.groupby(['catagory_code'])['total_spent_for_category'].sum()"
   ]
  },
  {
   "cell_type": "code",
   "execution_count": 706,
   "metadata": {},
   "outputs": [],
   "source": [
    "customer_data['birth_year']=customer_data['birth_year'].astype(int)"
   ]
  },
  {
   "cell_type": "code",
   "execution_count": 707,
   "metadata": {},
   "outputs": [],
   "source": [
    "#sorted(customer_data['birth_year'].unique())"
   ]
  },
  {
   "cell_type": "code",
   "execution_count": 708,
   "metadata": {},
   "outputs": [],
   "source": [
    "customer_data['age']=2020-customer_data['birth_year']"
   ]
  },
  {
   "cell_type": "code",
   "execution_count": 709,
   "metadata": {},
   "outputs": [],
   "source": [
    "customer_data['age']=customer_data['age'].astype(int)"
   ]
  },
  {
   "cell_type": "code",
   "execution_count": 710,
   "metadata": {},
   "outputs": [],
   "source": [
    "#sorted(customer_data['age'].unique())"
   ]
  },
  {
   "cell_type": "code",
   "execution_count": 711,
   "metadata": {},
   "outputs": [
    {
     "data": {
      "text/html": [
       "<div>\n",
       "<style scoped>\n",
       "    .dataframe tbody tr th:only-of-type {\n",
       "        vertical-align: middle;\n",
       "    }\n",
       "\n",
       "    .dataframe tbody tr th {\n",
       "        vertical-align: top;\n",
       "    }\n",
       "\n",
       "    .dataframe thead th {\n",
       "        text-align: right;\n",
       "    }\n",
       "</style>\n",
       "<table border=\"1\" class=\"dataframe\">\n",
       "  <thead>\n",
       "    <tr style=\"text-align: right;\">\n",
       "      <th></th>\n",
       "      <th>customer_id</th>\n",
       "      <th>gender</th>\n",
       "      <th>birth_year</th>\n",
       "      <th>age</th>\n",
       "      <th>agegroup</th>\n",
       "    </tr>\n",
       "  </thead>\n",
       "  <tbody>\n",
       "    <tr>\n",
       "      <th>0</th>\n",
       "      <td>167939</td>\n",
       "      <td>female</td>\n",
       "      <td>1985</td>\n",
       "      <td>35</td>\n",
       "      <td>Gen Y</td>\n",
       "    </tr>\n",
       "    <tr>\n",
       "      <th>1</th>\n",
       "      <td>168055</td>\n",
       "      <td>male</td>\n",
       "      <td>1966</td>\n",
       "      <td>54</td>\n",
       "      <td>Gen X</td>\n",
       "    </tr>\n",
       "    <tr>\n",
       "      <th>2</th>\n",
       "      <td>168227</td>\n",
       "      <td>female</td>\n",
       "      <td>1981</td>\n",
       "      <td>39</td>\n",
       "      <td>Gen Y</td>\n",
       "    </tr>\n",
       "    <tr>\n",
       "      <th>3</th>\n",
       "      <td>168286</td>\n",
       "      <td>female</td>\n",
       "      <td>1961</td>\n",
       "      <td>59</td>\n",
       "      <td>Boomers</td>\n",
       "    </tr>\n",
       "    <tr>\n",
       "      <th>4</th>\n",
       "      <td>168308</td>\n",
       "      <td>female</td>\n",
       "      <td>1970</td>\n",
       "      <td>50</td>\n",
       "      <td>Gen X</td>\n",
       "    </tr>\n",
       "  </tbody>\n",
       "</table>\n",
       "</div>"
      ],
      "text/plain": [
       "   customer_id  gender  birth_year  age agegroup\n",
       "0       167939  female        1985   35    Gen Y\n",
       "1       168055    male        1966   54    Gen X\n",
       "2       168227  female        1981   39    Gen Y\n",
       "3       168286  female        1961   59  Boomers\n",
       "4       168308  female        1970   50    Gen X"
      ]
     },
     "execution_count": 711,
     "metadata": {},
     "output_type": "execute_result"
    }
   ],
   "source": [
    "bins=[1930,1946,1964,1976,1995,2010]\n",
    "labels=['Traditionalists','Boomers','Gen X','Gen Y','Gen Z']\n",
    "customer_data['agegroup']=pd.cut(customer_data['birth_year'], bins=bins, labels=labels, right=False)\n",
    "customer_data.head()"
   ]
  },
  {
   "cell_type": "code",
   "execution_count": 712,
   "metadata": {},
   "outputs": [
    {
     "data": {
      "text/html": [
       "<div>\n",
       "<style scoped>\n",
       "    .dataframe tbody tr th:only-of-type {\n",
       "        vertical-align: middle;\n",
       "    }\n",
       "\n",
       "    .dataframe tbody tr th {\n",
       "        vertical-align: top;\n",
       "    }\n",
       "\n",
       "    .dataframe thead th {\n",
       "        text-align: right;\n",
       "    }\n",
       "</style>\n",
       "<table border=\"1\" class=\"dataframe\">\n",
       "  <thead>\n",
       "    <tr style=\"text-align: right;\">\n",
       "      <th></th>\n",
       "      <th>customer_id</th>\n",
       "      <th>year</th>\n",
       "      <th>month</th>\n",
       "      <th>catagory_code</th>\n",
       "      <th>total_spent_for_category</th>\n",
       "      <th>end_date</th>\n",
       "      <th>gender</th>\n",
       "      <th>birth_year</th>\n",
       "      <th>age</th>\n",
       "      <th>agegroup</th>\n",
       "    </tr>\n",
       "  </thead>\n",
       "  <tbody>\n",
       "    <tr>\n",
       "      <th>0</th>\n",
       "      <td>337134</td>\n",
       "      <td>2017</td>\n",
       "      <td>6</td>\n",
       "      <td>B117</td>\n",
       "      <td>2226.0</td>\n",
       "      <td>2017-06-30</td>\n",
       "      <td>female</td>\n",
       "      <td>1970</td>\n",
       "      <td>50</td>\n",
       "      <td>Gen X</td>\n",
       "    </tr>\n",
       "    <tr>\n",
       "      <th>1</th>\n",
       "      <td>950216</td>\n",
       "      <td>2018</td>\n",
       "      <td>2</td>\n",
       "      <td>B115</td>\n",
       "      <td>1131.0</td>\n",
       "      <td>2018-02-28</td>\n",
       "      <td>male</td>\n",
       "      <td>1997</td>\n",
       "      <td>23</td>\n",
       "      <td>Gen Z</td>\n",
       "    </tr>\n",
       "    <tr>\n",
       "      <th>2</th>\n",
       "      <td>824818</td>\n",
       "      <td>2018</td>\n",
       "      <td>2</td>\n",
       "      <td>B115</td>\n",
       "      <td>960.0</td>\n",
       "      <td>2018-02-28</td>\n",
       "      <td>female</td>\n",
       "      <td>1977</td>\n",
       "      <td>43</td>\n",
       "      <td>Gen Y</td>\n",
       "    </tr>\n",
       "    <tr>\n",
       "      <th>3</th>\n",
       "      <td>547554</td>\n",
       "      <td>2018</td>\n",
       "      <td>7</td>\n",
       "      <td>B115</td>\n",
       "      <td>345.0</td>\n",
       "      <td>2018-07-31</td>\n",
       "      <td>male</td>\n",
       "      <td>1958</td>\n",
       "      <td>62</td>\n",
       "      <td>Boomers</td>\n",
       "    </tr>\n",
       "    <tr>\n",
       "      <th>4</th>\n",
       "      <td>176602</td>\n",
       "      <td>2017</td>\n",
       "      <td>5</td>\n",
       "      <td>B115</td>\n",
       "      <td>217.5</td>\n",
       "      <td>2017-05-31</td>\n",
       "      <td>female</td>\n",
       "      <td>1955</td>\n",
       "      <td>65</td>\n",
       "      <td>Boomers</td>\n",
       "    </tr>\n",
       "  </tbody>\n",
       "</table>\n",
       "</div>"
      ],
      "text/plain": [
       "   customer_id  year  month catagory_code  total_spent_for_category  \\\n",
       "0       337134  2017      6          B117                    2226.0   \n",
       "1       950216  2018      2          B115                    1131.0   \n",
       "2       824818  2018      2          B115                     960.0   \n",
       "3       547554  2018      7          B115                     345.0   \n",
       "4       176602  2017      5          B115                     217.5   \n",
       "\n",
       "     end_date  gender  birth_year  age agegroup  \n",
       "0  2017-06-30  female        1970   50    Gen X  \n",
       "1  2018-02-28    male        1997   23    Gen Z  \n",
       "2  2018-02-28  female        1977   43    Gen Y  \n",
       "3  2018-07-31    male        1958   62  Boomers  \n",
       "4  2017-05-31  female        1955   65  Boomers  "
      ]
     },
     "execution_count": 712,
     "metadata": {},
     "output_type": "execute_result"
    }
   ],
   "source": [
    "df=sales_detail.join(customer_data.set_index('customer_id'), on='customer_id')\n",
    "df.head()"
   ]
  },
  {
   "cell_type": "code",
   "execution_count": 713,
   "metadata": {},
   "outputs": [
    {
     "data": {
      "image/png": "[encoded data removed]",
      "text/plain": [
       "<Figure size 1152x432 with 1 Axes>"
      ]
     },
     "metadata": {},
     "output_type": "display_data"
    }
   ],
   "source": [
    "import seaborn as sns\n",
    "sns.set(style=\"darkgrid\")\n",
    "plt.figure(figsize=(16, 6))\n",
    "ax = sns.countplot(x=\"catagory_code\", hue=\"gender\", data=df)"
   ]
  },
  {
   "cell_type": "code",
   "execution_count": 714,
   "metadata": {},
   "outputs": [
    {
     "data": {
      "image/png": "[encoded data removed]",
      "text/plain": [
       "<Figure size 1152x432 with 1 Axes>"
      ]
     },
     "metadata": {},
     "output_type": "display_data"
    }
   ],
   "source": [
    "plt.figure(figsize=(16, 6))\n",
    "ax = sns.countplot(x=\"catagory_code\", hue=\"agegroup\", data=df)"
   ]
  },
  {
   "cell_type": "code",
   "execution_count": 715,
   "metadata": {},
   "outputs": [
    {
     "data": {
      "text/html": [
       "<div>\n",
       "<style scoped>\n",
       "    .dataframe tbody tr th:only-of-type {\n",
       "        vertical-align: middle;\n",
       "    }\n",
       "\n",
       "    .dataframe tbody tr th {\n",
       "        vertical-align: top;\n",
       "    }\n",
       "\n",
       "    .dataframe thead th {\n",
       "        text-align: right;\n",
       "    }\n",
       "</style>\n",
       "<table border=\"1\" class=\"dataframe\">\n",
       "  <thead>\n",
       "    <tr style=\"text-align: right;\">\n",
       "      <th></th>\n",
       "      <th>customer_id</th>\n",
       "      <th>year</th>\n",
       "      <th>month</th>\n",
       "      <th>weekend_amount_spent</th>\n",
       "      <th>Num_of_weekend_visits</th>\n",
       "      <th>total_amount_spent</th>\n",
       "      <th>total_num_of_visits</th>\n",
       "      <th>end_date</th>\n",
       "    </tr>\n",
       "  </thead>\n",
       "  <tbody>\n",
       "    <tr>\n",
       "      <th>0</th>\n",
       "      <td>519123</td>\n",
       "      <td>2019</td>\n",
       "      <td>4</td>\n",
       "      <td>13385.67</td>\n",
       "      <td>3</td>\n",
       "      <td>23558.22</td>\n",
       "      <td>10</td>\n",
       "      <td>2019/04/30</td>\n",
       "    </tr>\n",
       "    <tr>\n",
       "      <th>1</th>\n",
       "      <td>510205</td>\n",
       "      <td>2019</td>\n",
       "      <td>4</td>\n",
       "      <td>21662.76</td>\n",
       "      <td>3</td>\n",
       "      <td>23632.74</td>\n",
       "      <td>4</td>\n",
       "      <td>2019/04/30</td>\n",
       "    </tr>\n",
       "    <tr>\n",
       "      <th>2</th>\n",
       "      <td>341451</td>\n",
       "      <td>2019</td>\n",
       "      <td>4</td>\n",
       "      <td>1433.50</td>\n",
       "      <td>1</td>\n",
       "      <td>9450.19</td>\n",
       "      <td>3</td>\n",
       "      <td>2019/04/30</td>\n",
       "    </tr>\n",
       "    <tr>\n",
       "      <th>3</th>\n",
       "      <td>264241</td>\n",
       "      <td>2017</td>\n",
       "      <td>12</td>\n",
       "      <td>17391.91</td>\n",
       "      <td>3</td>\n",
       "      <td>32940.57</td>\n",
       "      <td>6</td>\n",
       "      <td>2017/12/31</td>\n",
       "    </tr>\n",
       "    <tr>\n",
       "      <th>4</th>\n",
       "      <td>207482</td>\n",
       "      <td>2017</td>\n",
       "      <td>12</td>\n",
       "      <td>10949.23</td>\n",
       "      <td>2</td>\n",
       "      <td>26126.32</td>\n",
       "      <td>7</td>\n",
       "      <td>2017/12/31</td>\n",
       "    </tr>\n",
       "  </tbody>\n",
       "</table>\n",
       "</div>"
      ],
      "text/plain": [
       "   customer_id  year  month  weekend_amount_spent  Num_of_weekend_visits  \\\n",
       "0       519123  2019      4              13385.67                      3   \n",
       "1       510205  2019      4              21662.76                      3   \n",
       "2       341451  2019      4               1433.50                      1   \n",
       "3       264241  2017     12              17391.91                      3   \n",
       "4       207482  2017     12              10949.23                      2   \n",
       "\n",
       "   total_amount_spent  total_num_of_visits    end_date  \n",
       "0            23558.22                   10  2019/04/30  \n",
       "1            23632.74                    4  2019/04/30  \n",
       "2             9450.19                    3  2019/04/30  \n",
       "3            32940.57                    6  2017/12/31  \n",
       "4            26126.32                    7  2017/12/31  "
      ]
     },
     "execution_count": 715,
     "metadata": {},
     "output_type": "execute_result"
    }
   ],
   "source": [
    "sales_summary.head()"
   ]
  },
  {
   "cell_type": "code",
   "execution_count": 716,
   "metadata": {},
   "outputs": [],
   "source": [
    "sales_summary['basket_value']=sales_summary['total_amount_spent']/sales_summary['total_num_of_visits']\n",
    "sales_summary['basket_value_weekend']=sales_summary['weekend_amount_spent']/sales_summary['Num_of_weekend_visits']"
   ]
  },
  {
   "cell_type": "code",
   "execution_count": 717,
   "metadata": {},
   "outputs": [
    {
     "data": {
      "text/html": [
       "<div>\n",
       "<style scoped>\n",
       "    .dataframe tbody tr th:only-of-type {\n",
       "        vertical-align: middle;\n",
       "    }\n",
       "\n",
       "    .dataframe tbody tr th {\n",
       "        vertical-align: top;\n",
       "    }\n",
       "\n",
       "    .dataframe thead th {\n",
       "        text-align: right;\n",
       "    }\n",
       "</style>\n",
       "<table border=\"1\" class=\"dataframe\">\n",
       "  <thead>\n",
       "    <tr style=\"text-align: right;\">\n",
       "      <th></th>\n",
       "      <th>customer_id</th>\n",
       "      <th>year</th>\n",
       "      <th>month</th>\n",
       "      <th>weekend_amount_spent</th>\n",
       "      <th>Num_of_weekend_visits</th>\n",
       "      <th>total_amount_spent</th>\n",
       "      <th>total_num_of_visits</th>\n",
       "      <th>end_date</th>\n",
       "      <th>basket_value</th>\n",
       "      <th>basket_value_weekend</th>\n",
       "    </tr>\n",
       "  </thead>\n",
       "  <tbody>\n",
       "    <tr>\n",
       "      <th>0</th>\n",
       "      <td>519123</td>\n",
       "      <td>2019</td>\n",
       "      <td>4</td>\n",
       "      <td>13385.67</td>\n",
       "      <td>3</td>\n",
       "      <td>23558.22</td>\n",
       "      <td>10</td>\n",
       "      <td>2019/04/30</td>\n",
       "      <td>2355.822000</td>\n",
       "      <td>4461.890000</td>\n",
       "    </tr>\n",
       "    <tr>\n",
       "      <th>1</th>\n",
       "      <td>510205</td>\n",
       "      <td>2019</td>\n",
       "      <td>4</td>\n",
       "      <td>21662.76</td>\n",
       "      <td>3</td>\n",
       "      <td>23632.74</td>\n",
       "      <td>4</td>\n",
       "      <td>2019/04/30</td>\n",
       "      <td>5908.185000</td>\n",
       "      <td>7220.920000</td>\n",
       "    </tr>\n",
       "    <tr>\n",
       "      <th>2</th>\n",
       "      <td>341451</td>\n",
       "      <td>2019</td>\n",
       "      <td>4</td>\n",
       "      <td>1433.50</td>\n",
       "      <td>1</td>\n",
       "      <td>9450.19</td>\n",
       "      <td>3</td>\n",
       "      <td>2019/04/30</td>\n",
       "      <td>3150.063333</td>\n",
       "      <td>1433.500000</td>\n",
       "    </tr>\n",
       "    <tr>\n",
       "      <th>3</th>\n",
       "      <td>264241</td>\n",
       "      <td>2017</td>\n",
       "      <td>12</td>\n",
       "      <td>17391.91</td>\n",
       "      <td>3</td>\n",
       "      <td>32940.57</td>\n",
       "      <td>6</td>\n",
       "      <td>2017/12/31</td>\n",
       "      <td>5490.095000</td>\n",
       "      <td>5797.303333</td>\n",
       "    </tr>\n",
       "    <tr>\n",
       "      <th>4</th>\n",
       "      <td>207482</td>\n",
       "      <td>2017</td>\n",
       "      <td>12</td>\n",
       "      <td>10949.23</td>\n",
       "      <td>2</td>\n",
       "      <td>26126.32</td>\n",
       "      <td>7</td>\n",
       "      <td>2017/12/31</td>\n",
       "      <td>3732.331429</td>\n",
       "      <td>5474.615000</td>\n",
       "    </tr>\n",
       "  </tbody>\n",
       "</table>\n",
       "</div>"
      ],
      "text/plain": [
       "   customer_id  year  month  weekend_amount_spent  Num_of_weekend_visits  \\\n",
       "0       519123  2019      4              13385.67                      3   \n",
       "1       510205  2019      4              21662.76                      3   \n",
       "2       341451  2019      4               1433.50                      1   \n",
       "3       264241  2017     12              17391.91                      3   \n",
       "4       207482  2017     12              10949.23                      2   \n",
       "\n",
       "   total_amount_spent  total_num_of_visits    end_date  basket_value  \\\n",
       "0            23558.22                   10  2019/04/30   2355.822000   \n",
       "1            23632.74                    4  2019/04/30   5908.185000   \n",
       "2             9450.19                    3  2019/04/30   3150.063333   \n",
       "3            32940.57                    6  2017/12/31   5490.095000   \n",
       "4            26126.32                    7  2017/12/31   3732.331429   \n",
       "\n",
       "   basket_value_weekend  \n",
       "0           4461.890000  \n",
       "1           7220.920000  \n",
       "2           1433.500000  \n",
       "3           5797.303333  \n",
       "4           5474.615000  "
      ]
     },
     "execution_count": 717,
     "metadata": {},
     "output_type": "execute_result"
    }
   ],
   "source": [
    "sales_summary.head()"
   ]
  },
  {
   "cell_type": "code",
   "execution_count": 718,
   "metadata": {},
   "outputs": [],
   "source": [
    "sales_summary['time']=sales_summary['year'].astype(str)+\"-\"+sales_summary['month'].astype(str)+\"-\"+\"01\"\n",
    "\n",
    "sales_summary['time']=pd.to_datetime(sales_summary['time'])\n",
    "\n",
    "basket_mean=sales_summary.groupby(['customer_id'])['basket_value'].mean()\n",
    "basket_mean=basket_mean.to_frame()"
   ]
  },
  {
   "cell_type": "code",
   "execution_count": 719,
   "metadata": {},
   "outputs": [
    {
     "data": {
      "text/html": [
       "<div>\n",
       "<style scoped>\n",
       "    .dataframe tbody tr th:only-of-type {\n",
       "        vertical-align: middle;\n",
       "    }\n",
       "\n",
       "    .dataframe tbody tr th {\n",
       "        vertical-align: top;\n",
       "    }\n",
       "\n",
       "    .dataframe thead th {\n",
       "        text-align: right;\n",
       "    }\n",
       "</style>\n",
       "<table border=\"1\" class=\"dataframe\">\n",
       "  <thead>\n",
       "    <tr style=\"text-align: right;\">\n",
       "      <th></th>\n",
       "      <th>customer_id</th>\n",
       "      <th>year</th>\n",
       "      <th>month</th>\n",
       "      <th>weekend_amount_spent</th>\n",
       "      <th>Num_of_weekend_visits</th>\n",
       "      <th>total_amount_spent</th>\n",
       "      <th>total_num_of_visits</th>\n",
       "      <th>end_date</th>\n",
       "      <th>basket_value</th>\n",
       "      <th>basket_value_weekend</th>\n",
       "      <th>time</th>\n",
       "    </tr>\n",
       "  </thead>\n",
       "  <tbody>\n",
       "    <tr>\n",
       "      <th>0</th>\n",
       "      <td>519123</td>\n",
       "      <td>2019</td>\n",
       "      <td>4</td>\n",
       "      <td>13385.67</td>\n",
       "      <td>3</td>\n",
       "      <td>23558.22</td>\n",
       "      <td>10</td>\n",
       "      <td>2019/04/30</td>\n",
       "      <td>2355.822000</td>\n",
       "      <td>4461.890000</td>\n",
       "      <td>2019-04-01</td>\n",
       "    </tr>\n",
       "    <tr>\n",
       "      <th>1</th>\n",
       "      <td>510205</td>\n",
       "      <td>2019</td>\n",
       "      <td>4</td>\n",
       "      <td>21662.76</td>\n",
       "      <td>3</td>\n",
       "      <td>23632.74</td>\n",
       "      <td>4</td>\n",
       "      <td>2019/04/30</td>\n",
       "      <td>5908.185000</td>\n",
       "      <td>7220.920000</td>\n",
       "      <td>2019-04-01</td>\n",
       "    </tr>\n",
       "    <tr>\n",
       "      <th>2</th>\n",
       "      <td>341451</td>\n",
       "      <td>2019</td>\n",
       "      <td>4</td>\n",
       "      <td>1433.50</td>\n",
       "      <td>1</td>\n",
       "      <td>9450.19</td>\n",
       "      <td>3</td>\n",
       "      <td>2019/04/30</td>\n",
       "      <td>3150.063333</td>\n",
       "      <td>1433.500000</td>\n",
       "      <td>2019-04-01</td>\n",
       "    </tr>\n",
       "    <tr>\n",
       "      <th>3</th>\n",
       "      <td>264241</td>\n",
       "      <td>2017</td>\n",
       "      <td>12</td>\n",
       "      <td>17391.91</td>\n",
       "      <td>3</td>\n",
       "      <td>32940.57</td>\n",
       "      <td>6</td>\n",
       "      <td>2017/12/31</td>\n",
       "      <td>5490.095000</td>\n",
       "      <td>5797.303333</td>\n",
       "      <td>2017-12-01</td>\n",
       "    </tr>\n",
       "    <tr>\n",
       "      <th>4</th>\n",
       "      <td>207482</td>\n",
       "      <td>2017</td>\n",
       "      <td>12</td>\n",
       "      <td>10949.23</td>\n",
       "      <td>2</td>\n",
       "      <td>26126.32</td>\n",
       "      <td>7</td>\n",
       "      <td>2017/12/31</td>\n",
       "      <td>3732.331429</td>\n",
       "      <td>5474.615000</td>\n",
       "      <td>2017-12-01</td>\n",
       "    </tr>\n",
       "  </tbody>\n",
       "</table>\n",
       "</div>"
      ],
      "text/plain": [
       "   customer_id  year  month  weekend_amount_spent  Num_of_weekend_visits  \\\n",
       "0       519123  2019      4              13385.67                      3   \n",
       "1       510205  2019      4              21662.76                      3   \n",
       "2       341451  2019      4               1433.50                      1   \n",
       "3       264241  2017     12              17391.91                      3   \n",
       "4       207482  2017     12              10949.23                      2   \n",
       "\n",
       "   total_amount_spent  total_num_of_visits    end_date  basket_value  \\\n",
       "0            23558.22                   10  2019/04/30   2355.822000   \n",
       "1            23632.74                    4  2019/04/30   5908.185000   \n",
       "2             9450.19                    3  2019/04/30   3150.063333   \n",
       "3            32940.57                    6  2017/12/31   5490.095000   \n",
       "4            26126.32                    7  2017/12/31   3732.331429   \n",
       "\n",
       "   basket_value_weekend       time  \n",
       "0           4461.890000 2019-04-01  \n",
       "1           7220.920000 2019-04-01  \n",
       "2           1433.500000 2019-04-01  \n",
       "3           5797.303333 2017-12-01  \n",
       "4           5474.615000 2017-12-01  "
      ]
     },
     "execution_count": 719,
     "metadata": {},
     "output_type": "execute_result"
    }
   ],
   "source": [
    "sales_summary.head()"
   ]
  },
  {
   "cell_type": "code",
   "execution_count": 725,
   "metadata": {},
   "outputs": [],
   "source": [
    "df1=basket_mean.join(customer_data.set_index('customer_id'), on='customer_id',)"
   ]
  },
  {
   "cell_type": "code",
   "execution_count": 726,
   "metadata": {},
   "outputs": [],
   "source": [
    "df2=sales_summary.reset_index().pivot('customer_id', 'time', 'basket_value')"
   ]
  },
  {
   "cell_type": "code",
   "execution_count": 727,
   "metadata": {},
   "outputs": [],
   "source": [
    "df2 = df2.reindex(sorted(df2.columns), axis=1)\n",
    "df2 = df2.fillna(0)"
   ]
  },
  {
   "cell_type": "code",
   "execution_count": null,
   "metadata": {},
   "outputs": [],
   "source": []
  },
  {
   "cell_type": "code",
   "execution_count": 728,
   "metadata": {},
   "outputs": [],
   "source": [
    "df2 = df2.sort_values(by ='customer_id')\n",
    "df1 = df1.sort_values(by ='customer_id')\n"
   ]
  },
  {
   "cell_type": "code",
   "execution_count": 729,
   "metadata": {},
   "outputs": [],
   "source": [
    "result = pd.concat([df1, df2], axis=1, join='inner')"
   ]
  },
  {
   "cell_type": "code",
   "execution_count": 734,
   "metadata": {},
   "outputs": [
    {
     "name": "stdout",
     "output_type": "stream",
     "text": [
      "<class 'pandas.core.frame.DataFrame'>\n",
      "Int64Index: 7530 entries, 167939 to 1124737\n",
      "Data columns (total 5 columns):\n",
      "basket_value    7530 non-null float64\n",
      "gender          7530 non-null object\n",
      "birth_year      7530 non-null int64\n",
      "age             7530 non-null int64\n",
      "agegroup        7530 non-null category\n",
      "dtypes: category(1), float64(1), int64(2), object(1)\n",
      "memory usage: 301.7+ KB\n"
     ]
    }
   ],
   "source": [
    "df1.info()"
   ]
  },
  {
   "cell_type": "code",
   "execution_count": 731,
   "metadata": {},
   "outputs": [],
   "source": [
    "from sklearn.cluster import KMeans\n",
    "import matplotlib.pyplot as plt\n",
    "from mpl_toolkits.mplot3d import Axes3D\n",
    "import numpy as np\n",
    "%matplotlib inline\n",
    "from sklearn import datasets"
   ]
  },
  {
   "cell_type": "code",
   "execution_count": 742,
   "metadata": {},
   "outputs": [
    {
     "name": "stdout",
     "output_type": "stream",
     "text": [
      "<class 'pandas.core.frame.DataFrame'>\n",
      "Int64Index: 7530 entries, 167939 to 1124737\n",
      "Data columns (total 5 columns):\n",
      "basket_value    7530 non-null float64\n",
      "gender          5218 non-null object\n",
      "birth_year      7530 non-null int64\n",
      "age             7530 non-null int64\n",
      "agegroup        7530 non-null object\n",
      "dtypes: float64(1), int64(2), object(2)\n",
      "memory usage: 353.0+ KB\n"
     ]
    }
   ],
   "source": [
    "df1['gender']=df1['gender'].astype('object')\n",
    "df1['agegroup']=df1['agegroup'].astype('object')\n",
    "df1.info()\n",
    "labeldata=df1[[\"gender\",\"agegroup\"]]\n",
    "\n",
    "labeldata=df1.select_dtypes(include=[object,bool])\n",
    "\n",
    "\n",
    "from sklearn import preprocessing\n",
    "labelEncoder=preprocessing.LabelEncoder()\n",
    "X_2=labeldata.apply(labelEncoder.fit_transform)\n",
    "\n",
    "df1['gender']=X_2['gender']\n",
    "df1['agegroup']=X_2['agegroup']\n",
    "res=df1[['gender','agegroup']]"
   ]
  },
  {
   "cell_type": "code",
   "execution_count": 750,
   "metadata": {},
   "outputs": [
    {
     "name": "stdout",
     "output_type": "stream",
     "text": [
      "[[5.45045658e+01 1.51585589e+00]\n",
      " [1.56000000e+03 1.63437293e+00]]\n"
     ]
    }
   ],
   "source": [
    "kmeans = KMeans(n_clusters=2)\n",
    "y=kmeans.fit_predict(res)\n",
    "centroids = kmeans.cluster_centers_\n",
    "print(centroids)"
   ]
  },
  {
   "cell_type": "code",
   "execution_count": 751,
   "metadata": {},
   "outputs": [
    {
     "data": {
      "text/plain": [
       "<matplotlib.collections.PathCollection at 0x7fac67537550>"
      ]
     },
     "execution_count": 751,
     "metadata": {},
     "output_type": "execute_result"
    },
    {
     "data": {
      "image/png": "[encoded data removed]",
      "text/plain": [
       "<Figure size 432x288 with 1 Axes>"
      ]
     },
     "metadata": {
      "needs_background": "light"
     },
     "output_type": "display_data"
    }
   ],
   "source": [
    "plt.scatter(res['gender'], res['agegroup'],c=y,cmap='rainbow')"
   ]
  },
  {
   "cell_type": "code",
   "execution_count": null,
   "metadata": {},
   "outputs": [],
   "source": []
  }
 ],
 "metadata": {
  "kernelspec": {
   "display_name": "Python 3",
   "language": "python",
   "name": "python3"
  },
  "language_info": {
   "codemirror_mode": {
    "name": "ipython",
    "version": 3
   },
   "file_extension": ".py",
   "mimetype": "text/x-python",
   "name": "python",
   "nbconvert_exporter": "python",
   "pygments_lexer": "ipython3",
   "version": "3.7.3"
  }
 },
 "nbformat": 4,
 "nbformat_minor": 2
}
